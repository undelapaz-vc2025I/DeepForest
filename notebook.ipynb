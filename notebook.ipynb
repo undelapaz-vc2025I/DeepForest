{
 "cells": [
  {
   "cell_type": "markdown",
   "metadata": {},
   "source": [
    "# DeepForest: Ejemplo de uso\n",
    "\n",
    "Ejemplo de conteo de árboles con DeepForest en una imagen aérea."
   ]
  },
  {
   "cell_type": "code",
   "execution_count": null,
   "metadata": {},
   "outputs": [],
   "source": [
    "# Carga las librerias\n",
    "from deepforest import main\n",
    "from deepforest import get_data\n",
    "from deepforest.visualize import plot_results"
   ]
  },
  {
   "cell_type": "code",
   "execution_count": null,
   "metadata": {},
   "outputs": [],
   "source": [
    "# Inicializa el modelo\n",
    "model = main.deepforest()\n",
    "\n",
    "# Carga el modelo preentrenado desde Hugging Face\n",
    "model.load_model(model_name=\"weecology/deepforest-tree\", revision=\"main\")"
   ]
  },
  {
   "cell_type": "code",
   "execution_count": null,
   "metadata": {},
   "outputs": [],
   "source": [
    "# Imagen de prueba\n",
    "sample_image_path = get_data(\"OSBS_029.png\")\n",
    "\n",
    "# Ver imagen de prueba\n",
    "from PIL import Image\n",
    "img_in = Image.open(sample_image_path)\n",
    "display(img_in)"
   ]
  },
  {
   "cell_type": "code",
   "execution_count": null,
   "metadata": {},
   "outputs": [],
   "source": [
    "# Realiza la detección de árboles usando el modelo preentrenado\n",
    "\n",
    "img_out = model.predict_image(path=sample_image_path)\n",
    "plot_results(img_out)"
   ]
  },
  {
   "cell_type": "code",
   "execution_count": null,
   "metadata": {},
   "outputs": [],
   "source": [
    "print(f\"Número de árboles detectados: {len(img_out)}\")\n"
   ]
  },
  {
   "cell_type": "code",
   "execution_count": null,
   "metadata": {},
   "outputs": [],
   "source": [
    "img_out"
   ]
  }
 ],
 "metadata": {
  "kernelspec": {
   "display_name": "DeepForest",
   "language": "python",
   "name": "python3"
  },
  "language_info": {
   "codemirror_mode": {
    "name": "ipython",
    "version": 3
   },
   "file_extension": ".py",
   "mimetype": "text/x-python",
   "name": "python",
   "nbconvert_exporter": "python",
   "pygments_lexer": "ipython3",
   "version": "3.11.13"
  }
 },
 "nbformat": 4,
 "nbformat_minor": 2
}
